{
  "nbformat": 4,
  "nbformat_minor": 0,
  "metadata": {
    "colab": {
      "provenance": []
    },
    "kernelspec": {
      "name": "python3",
      "display_name": "Python 3"
    },
    "language_info": {
      "name": "python"
    }
  },
  "cells": [
    {
      "cell_type": "code",
      "execution_count": 1,
      "metadata": {
        "colab": {
          "base_uri": "https://localhost:8080/"
        },
        "id": "QrTI3moik8x9",
        "outputId": "aacadad1-d460-43d7-f28c-4ef649c4628b"
      },
      "outputs": [
        {
          "output_type": "stream",
          "name": "stdout",
          "text": [
            "Collecting apyori\n",
            "  Downloading apyori-1.1.2.tar.gz (8.6 kB)\n",
            "  Preparing metadata (setup.py) ... \u001b[?25l\u001b[?25hdone\n",
            "Building wheels for collected packages: apyori\n",
            "  Building wheel for apyori (setup.py) ... \u001b[?25l\u001b[?25hdone\n",
            "  Created wheel for apyori: filename=apyori-1.1.2-py3-none-any.whl size=5954 sha256=8313752d9870ea3f90cd0a0e51d1d072b2449d2be317a3aa4fed684f577e36eb\n",
            "  Stored in directory: /root/.cache/pip/wheels/77/3d/a6/d317a6fb32be58a602b1e8c6b5d6f31f79322da554cad2a5ea\n",
            "Successfully built apyori\n",
            "Installing collected packages: apyori\n",
            "Successfully installed apyori-1.1.2\n"
          ]
        }
      ],
      "source": [
        "!pip install apyori"
      ]
    },
    {
      "cell_type": "code",
      "source": [
        "# import header files\n",
        "import numpy as np\n",
        "import pandas as pd\n",
        "from apyori import apriori"
      ],
      "metadata": {
        "id": "EMFODaEyl8Hf"
      },
      "execution_count": 2,
      "outputs": []
    },
    {
      "cell_type": "code",
      "source": [
        "store_data = pd.read_csv('PRACTICAL_6_DATA.csv', header=None)"
      ],
      "metadata": {
        "id": "4VcqxfPVl8oc"
      },
      "execution_count": 3,
      "outputs": []
    },
    {
      "cell_type": "code",
      "source": [
        "print(store_data)"
      ],
      "metadata": {
        "colab": {
          "base_uri": "https://localhost:8080/"
        },
        "id": "0HN2gcCjl8rN",
        "outputId": "aef7025d-27d4-4df2-d956-5c82577376f8"
      },
      "execution_count": 4,
      "outputs": [
        {
          "output_type": "stream",
          "name": "stdout",
          "text": [
            "       0      1      2       3     4      5\n",
            "0   Wine  Chips  Bread  Butter  Milk  Apple\n",
            "1   Wine    NaN  Bread  Butter  Milk    NaN\n",
            "2    NaN    NaN  Bread  Butter  Milk    NaN\n",
            "3    NaN  Chips    NaN     NaN   NaN  Apple\n",
            "4   Wine  Chips  Bread  Butter  Milk  Apple\n",
            "5   Wine  Chips    NaN     NaN  Milk    NaN\n",
            "6   Wine  Chips  Bread  Butter   NaN  Apple\n",
            "7   Wine  Chips    NaN     NaN  Milk    NaN\n",
            "8   Wine    NaN  Bread     NaN   NaN  Apple\n",
            "9   Wine    NaN  Bread  Butter  Milk    NaN\n",
            "10   NaN  Chips  Bread  Butter   NaN  Apple\n",
            "11  Wine    NaN    NaN  Butter  Milk  Apple\n",
            "12  Wine  Chips  Bread  Butter  Milk    NaN\n",
            "13  Wine    NaN  Bread     NaN  Milk  Apple\n",
            "14  Wine    NaN  Bread  Butter  Milk  Apple\n",
            "15  Wine  Chips  Bread  Butter  Milk  Apple\n",
            "16   NaN  Chips  Bread  Butter  Milk  Apple\n",
            "17   NaN  Chips    NaN  Butter  Milk  Apple\n",
            "18  Wine  Chips  Bread  Butter  Milk  Apple\n",
            "19  Wine    NaN  Bread  Butter  Milk  Apple\n",
            "20  Wine  Chips  Bread     NaN  Milk  Apple\n",
            "21   NaN  Chips    NaN     NaN   NaN    NaN\n"
          ]
        }
      ]
    },
    {
      "cell_type": "code",
      "source": [
        "store_data.shape"
      ],
      "metadata": {
        "colab": {
          "base_uri": "https://localhost:8080/"
        },
        "id": "4ix961kEl8xG",
        "outputId": "a5e66af6-aa96-478c-c6fa-376d8086ae1e"
      },
      "execution_count": 5,
      "outputs": [
        {
          "output_type": "execute_result",
          "data": {
            "text/plain": [
              "(22, 6)"
            ]
          },
          "metadata": {},
          "execution_count": 5
        }
      ]
    },
    {
      "cell_type": "code",
      "source": [
        "records = []\n",
        "for i in range(0,22):\n",
        "  records.append([str(store_data.values[i,j]) for j in range(0,6)])"
      ],
      "metadata": {
        "id": "xoTu_kCTl87k"
      },
      "execution_count": 6,
      "outputs": []
    },
    {
      "cell_type": "code",
      "source": [
        "records"
      ],
      "metadata": {
        "colab": {
          "base_uri": "https://localhost:8080/"
        },
        "id": "wGSa_hcNoo4M",
        "outputId": "97d2bc2e-2c91-41ed-bfb5-2ee11bd447d0"
      },
      "execution_count": 7,
      "outputs": [
        {
          "output_type": "execute_result",
          "data": {
            "text/plain": [
              "[['Wine', 'Chips', 'Bread', 'Butter', 'Milk', 'Apple'],\n",
              " ['Wine', 'nan', 'Bread', 'Butter', 'Milk', 'nan'],\n",
              " ['nan', 'nan', 'Bread', 'Butter', 'Milk', 'nan'],\n",
              " ['nan', 'Chips', 'nan', 'nan', 'nan', 'Apple'],\n",
              " ['Wine', 'Chips', 'Bread', 'Butter', 'Milk', 'Apple'],\n",
              " ['Wine', 'Chips', 'nan', 'nan', 'Milk', 'nan'],\n",
              " ['Wine', 'Chips', 'Bread', 'Butter', 'nan', 'Apple'],\n",
              " ['Wine', 'Chips', 'nan', 'nan', 'Milk', 'nan'],\n",
              " ['Wine', 'nan', 'Bread', 'nan', 'nan', 'Apple'],\n",
              " ['Wine', 'nan', 'Bread', 'Butter', 'Milk', 'nan'],\n",
              " ['nan', 'Chips', 'Bread', 'Butter', 'nan', 'Apple'],\n",
              " ['Wine', 'nan', 'nan', 'Butter', 'Milk', 'Apple'],\n",
              " ['Wine', 'Chips', 'Bread', 'Butter', 'Milk', 'nan'],\n",
              " ['Wine', 'nan', 'Bread', 'nan', 'Milk', 'Apple'],\n",
              " ['Wine', 'nan', 'Bread', 'Butter', 'Milk', 'Apple'],\n",
              " ['Wine', 'Chips', 'Bread', 'Butter', 'Milk', 'Apple'],\n",
              " ['nan', 'Chips', 'Bread', 'Butter', 'Milk', 'Apple'],\n",
              " ['nan', 'Chips', 'nan', 'Butter', 'Milk', 'Apple'],\n",
              " ['Wine', 'Chips', 'Bread', 'Butter', 'Milk', 'Apple'],\n",
              " ['Wine', 'nan', 'Bread', 'Butter', 'Milk', 'Apple'],\n",
              " ['Wine', 'Chips', 'Bread', 'nan', 'Milk', 'Apple'],\n",
              " ['nan', 'Chips', 'nan', 'nan', 'nan', 'nan']]"
            ]
          },
          "metadata": {},
          "execution_count": 7
        }
      ]
    },
    {
      "cell_type": "code",
      "source": [
        "association_rules = apriori(records, min_support=0.50, min_confidence=0.7, min_lift=1.2, min_length=2)\n",
        "association_results = list(association_rules)"
      ],
      "metadata": {
        "id": "Vh8gRccPoo0g"
      },
      "execution_count": 8,
      "outputs": []
    },
    {
      "cell_type": "code",
      "source": [
        "print(len(association_results))"
      ],
      "metadata": {
        "colab": {
          "base_uri": "https://localhost:8080/"
        },
        "id": "7c6EXXeKooxy",
        "outputId": "5e033f7e-a3c6-457b-b8f1-07c9ed75bce0"
      },
      "execution_count": 9,
      "outputs": [
        {
          "output_type": "stream",
          "name": "stdout",
          "text": [
            "1\n"
          ]
        }
      ]
    },
    {
      "cell_type": "code",
      "source": [
        "print(association_results)"
      ],
      "metadata": {
        "colab": {
          "base_uri": "https://localhost:8080/"
        },
        "id": "l1zbI3qMoowD",
        "outputId": "974a7b43-6074-4498-e84b-1ba17572bf9a"
      },
      "execution_count": 10,
      "outputs": [
        {
          "output_type": "stream",
          "name": "stdout",
          "text": [
            "[RelationRecord(items=frozenset({'Bread', 'Milk', 'Butter'}), support=0.5, ordered_statistics=[OrderedStatistic(items_base=frozenset({'Butter'}), items_add=frozenset({'Bread', 'Milk'}), confidence=0.7333333333333334, lift=1.241025641025641), OrderedStatistic(items_base=frozenset({'Bread', 'Milk'}), items_add=frozenset({'Butter'}), confidence=0.8461538461538461, lift=1.241025641025641)])]\n"
          ]
        }
      ]
    },
    {
      "cell_type": "code",
      "source": [],
      "metadata": {
        "id": "TG_Roxd8ookQ"
      },
      "execution_count": null,
      "outputs": []
    },
    {
      "cell_type": "code",
      "source": [],
      "metadata": {
        "id": "RxGzGHqWooPo"
      },
      "execution_count": null,
      "outputs": []
    }
  ]
}